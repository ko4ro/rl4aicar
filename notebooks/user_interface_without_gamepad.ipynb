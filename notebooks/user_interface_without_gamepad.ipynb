{
 "cells": [
  {
   "cell_type": "markdown",
   "metadata": {},
   "source": [
    "BotRacerController\n",
    "===\n",
    "\n",
    "In this notebook, connect training process viva IPC. You can send start and stop message to that process.\n",
    "\n",
    "## Import module\n",
    "\n",
    "import module for this notebook."
   ]
  },
  {
   "cell_type": "code",
   "execution_count": null,
   "metadata": {},
   "outputs": [],
   "source": [
    "import json\n",
    "import posix_ipc\n",
    "import sys\n",
    "from learning_racer.teleoperate import NotebookBackend\n",
    "import ipywidgets.widgets as widgets"
   ]
  },
  {
   "cell_type": "markdown",
   "metadata": {},
   "source": [
    "## Show toggle button\n",
    "\n",
    "Show the toggle button for controlling learning process. "
   ]
  },
  {
   "cell_type": "code",
   "execution_count": null,
   "metadata": {},
   "outputs": [
    {
     "data": {
      "text/plain": [
       "Controller()"
      ]
     },
     "metadata": {},
     "output_type": "display_data"
    }
   ],
   "source": [
    "toggle = widgets.ToggleButton(value=False, description='start stop')\n",
    "validate = widgets.Valid(value=False, description='Status',)\n",
    "display(toggle)\n",
    "display(validate)"
   ]
  },
  {
   "cell_type": "markdown",
   "metadata": {},
   "source": [
    "## Start controll process\n",
    "\n",
    "This cell is do communication to learning process. "
   ]
  },
  {
   "cell_type": "code",
   "execution_count": null,
   "metadata": {},
   "outputs": [],
   "source": [
    "status = False\n",
    "\n",
    "\n",
    "def callback(status):\n",
    "    validate.value = status\n",
    "    \n",
    "backend = NotebookBackend(callback)\n",
    "backend.start()\n",
    "\n",
    "flag = False\n",
    "def do_toggle(change):\n",
    "    global flag, backend\n",
    "    flag = not flag\n",
    "    backend.send_status(flag)\n",
    "    \n",
    "    \n",
    "do_toggle({'new':False})\n",
    "toggle.observe(do_toggle, names='value')\n"
   ]
  }
 ],
 "metadata": {
  "kernelspec": {
   "display_name": "Python 3",
   "language": "python",
   "name": "python3"
  },
  "language_info": {
   "codemirror_mode": {
    "name": "ipython",
    "version": 3
   },
   "file_extension": ".py",
   "mimetype": "text/x-python",
   "name": "python",
   "nbconvert_exporter": "python",
   "pygments_lexer": "ipython3",
   "version": "3.6.9"
  }
 },
 "nbformat": 4,
 "nbformat_minor": 4
}
